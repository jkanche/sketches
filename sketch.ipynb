{
 "cells": [
  {
   "cell_type": "code",
   "execution_count": 1,
   "id": "13ea2030-b878-42c2-a3db-4cac5cadae2a",
   "metadata": {},
   "outputs": [],
   "source": [
    "import anndata\n",
    "import h5py\n",
    "from geosketch import gs\n",
    "from fbpca import pca\n",
    "import numpy as np\n",
    "import pegasus\n",
    "import seaborn as sns"
   ]
  },
  {
   "cell_type": "code",
   "execution_count": 2,
   "id": "00783823-d54b-4f75-a1f8-9201ff35f581",
   "metadata": {},
   "outputs": [],
   "source": [
    "sns.set_theme(style=\"ticks\", palette=\"pastel\")"
   ]
  },
  {
   "cell_type": "code",
   "execution_count": 3,
   "id": "c907d323-5541-4358-bcbe-31d7730495fd",
   "metadata": {},
   "outputs": [],
   "source": [
    "# data = h5py.File(\"test.h5\")\n",
    "# X = data['samp_data']['data'][:,:]\n",
    "# X.shape"
   ]
  },
  {
   "cell_type": "code",
   "execution_count": 4,
   "id": "8f23978b-d469-474e-9e96-f067412a8ba8",
   "metadata": {},
   "outputs": [
    {
     "data": {
      "text/plain": [
       "AnnData object with n_obs × n_vars = 3962 × 18467\n",
       "    obs: 'in_tissue', 'array_row', 'array_col', 'n_genes_by_counts', 'log1p_n_genes_by_counts', 'total_counts', 'log1p_total_counts', 'pct_counts_in_top_50_genes', 'pct_counts_in_top_100_genes', 'pct_counts_in_top_200_genes', 'pct_counts_in_top_500_genes', 'total_counts_mt', 'log1p_total_counts_mt', 'pct_counts_mt', 'n_counts', 'clusters'\n",
       "    var: 'gene_ids', 'feature_types', 'genome', 'mt', 'n_cells_by_counts', 'mean_counts', 'log1p_mean_counts', 'pct_dropout_by_counts', 'total_counts', 'log1p_total_counts', 'n_cells', 'highly_variable', 'means', 'dispersions', 'dispersions_norm'\n",
       "    uns: 'clusters_colors', 'dendrogram_clusters', 'hvg', 'leiden', 'neighbors', 'pca', 'rank_genes_groups', 'umap'\n",
       "    obsm: 'X_pca', 'X_umap'\n",
       "    varm: 'PCs'\n",
       "    obsp: 'connectivities', 'distances'"
      ]
     },
     "execution_count": 4,
     "metadata": {},
     "output_type": "execute_result"
    }
   ],
   "source": [
    "# dataset from 10x genomics\n",
    "data =  anndata.read_h5ad(\"V1_Human_Lymph_Node.h5ad\")\n",
    "data"
   ]
  },
  {
   "cell_type": "markdown",
   "id": "6b504b97-a719-4d81-afea-da48bf0b99a7",
   "metadata": {},
   "source": [
    "### Pegasus signature score before sketch"
   ]
  },
  {
   "cell_type": "code",
   "execution_count": 5,
   "id": "e0c9d694-3da1-4424-a529-661a42fe1fc3",
   "metadata": {},
   "outputs": [
    {
     "name": "stdout",
     "output_type": "stream",
     "text": [
      "2021-10-08 17:14:54,735 - pegasus.tools.signature_score - INFO - Loaded signatures from GMT file /Users/kancherj/opt/miniconda3/envs/sketch/lib/python3.9/site-packages/pegasus/data_files/ribosomal_genes_human.gmt.\n",
      "2021-10-08 17:14:54,737 - pegasus.tools.signature_score - INFO - Signature ribo_genes: 77 out of 78 genes are used in signature score calculation.\n",
      "2021-10-08 17:14:54,803 - pegasus.tools.signature_score - INFO - Function 'calc_signature_score' finished in 0.13s.\n"
     ]
    }
   ],
   "source": [
    "pegasus.calc_signature_score(data, signatures=\"ribosomal_genes_human\")"
   ]
  },
  {
   "cell_type": "code",
   "execution_count": 6,
   "id": "99203cce-2ab7-43b9-b9c8-b355a0743c44",
   "metadata": {
    "tags": []
   },
   "outputs": [
    {
     "data": {
      "text/plain": [
       "AnnData object with n_obs × n_vars = 3962 × 18467\n",
       "    obs: 'in_tissue', 'array_row', 'array_col', 'n_genes_by_counts', 'log1p_n_genes_by_counts', 'total_counts', 'log1p_total_counts', 'pct_counts_in_top_50_genes', 'pct_counts_in_top_100_genes', 'pct_counts_in_top_200_genes', 'pct_counts_in_top_500_genes', 'total_counts_mt', 'log1p_total_counts_mt', 'pct_counts_mt', 'n_counts', 'clusters', 'ribo_genes'\n",
       "    var: 'gene_ids', 'feature_types', 'genome', 'mt', 'n_cells_by_counts', 'mean_counts', 'log1p_mean_counts', 'pct_dropout_by_counts', 'total_counts', 'log1p_total_counts', 'n_cells', 'highly_variable', 'means', 'dispersions', 'dispersions_norm', 'mean', 'bins'\n",
       "    uns: 'clusters_colors', 'dendrogram_clusters', 'hvg', 'leiden', 'neighbors', 'pca', 'rank_genes_groups', 'umap', 'sig_n_bins'\n",
       "    obsm: 'X_pca', 'X_umap', 'sig_background'\n",
       "    varm: 'PCs'\n",
       "    obsp: 'connectivities', 'distances'"
      ]
     },
     "execution_count": 6,
     "metadata": {},
     "output_type": "execute_result"
    }
   ],
   "source": [
    "data"
   ]
  },
  {
   "cell_type": "code",
   "execution_count": 7,
   "id": "56e24678-ab16-49f2-ad1c-26c06501711a",
   "metadata": {},
   "outputs": [
    {
     "data": {
      "text/plain": [
       "AAACAAGTATCTCCCA-1   -0.088058\n",
       "AAACAATCTACTAGCA-1    0.227618\n",
       "AAACAGAGCGACTCCT-1    0.079880\n",
       "AAACAGCTTTCAGAAG-1    0.197917\n",
       "AAACAGGGTCTATATT-1   -0.048069\n",
       "                        ...   \n",
       "TTGTTTCACATCCAGG-1   -0.044061\n",
       "TTGTTTCATTAGTCTA-1   -0.147871\n",
       "TTGTTTCCATACAACT-1   -0.061670\n",
       "TTGTTTGTATTACACG-1    0.169330\n",
       "TTGTTTGTGTAAATTC-1    0.171849\n",
       "Name: ribo_genes, Length: 3962, dtype: float32"
      ]
     },
     "execution_count": 7,
     "metadata": {},
     "output_type": "execute_result"
    }
   ],
   "source": [
    "data.obs[\"ribo_genes\"]"
   ]
  },
  {
   "cell_type": "code",
   "execution_count": 8,
   "id": "60eb6697-67bd-4789-b00f-6dd1b2cca9e6",
   "metadata": {},
   "outputs": [],
   "source": [
    "data.obs[\"group\"] = 1"
   ]
  },
  {
   "cell_type": "code",
   "execution_count": 9,
   "id": "3528480a-e708-46bd-9d65-2d77d99f5ac0",
   "metadata": {},
   "outputs": [
    {
     "name": "stderr",
     "output_type": "stream",
     "text": [
      "/Users/kancherj/opt/miniconda3/envs/sketch/lib/python3.9/site-packages/pandas/core/arraylike.py:364: RuntimeWarning: invalid value encountered in log10\n",
      "  result = getattr(ufunc, method)(*inputs, **kwargs)\n"
     ]
    },
    {
     "data": {
      "text/plain": [
       "<AxesSubplot:xlabel='ribo_genes', ylabel='Count'>"
      ]
     },
     "execution_count": 9,
     "metadata": {},
     "output_type": "execute_result"
    },
    {
     "data": {
      "image/png": "[encoded data removed]",
      "text/plain": [
       "<Figure size 432x288 with 1 Axes>"
      ]
     },
     "metadata": {},
     "output_type": "display_data"
    }
   ],
   "source": [
    "sns.histplot(\n",
    "    data.obs,\n",
    "    x=\"ribo_genes\",\n",
    "    palette=\"light:m_r\",\n",
    "    edgecolor=\".3\",\n",
    "    linewidth=.5,\n",
    "    log_scale=True,\n",
    ")"
   ]
  },
  {
   "cell_type": "markdown",
   "id": "3ade7583-5cc1-4bfd-a96a-d14d29ceaeb6",
   "metadata": {},
   "source": [
    "Literally following instructions from geosketch"
   ]
  },
  {
   "cell_type": "code",
   "execution_count": 10,
   "id": "cf3bd672-2612-4251-adbe-55e280b3221c",
   "metadata": {},
   "outputs": [
    {
     "data": {
      "text/plain": [
       "(3962, 100)"
      ]
     },
     "execution_count": 10,
     "metadata": {},
     "output_type": "execute_result"
    }
   ],
   "source": [
    "tX = data.X # np.transpose(X)\n",
    "U, s, Vt = pca(tX, k=100)\n",
    "U.shape"
   ]
  },
  {
   "cell_type": "code",
   "execution_count": 17,
   "id": "c8e26357-5ef3-4682-b8c5-4a72811ce22b",
   "metadata": {},
   "outputs": [
    {
     "data": {
      "text/plain": [
       "(100, 18467)"
      ]
     },
     "execution_count": 17,
     "metadata": {},
     "output_type": "execute_result"
    }
   ],
   "source": [
    "Vt.shape"
   ]
  },
  {
   "cell_type": "code",
   "execution_count": 11,
   "id": "7bccc392-9f6f-4379-909a-1809ed43fe09",
   "metadata": {},
   "outputs": [
    {
     "data": {
      "text/plain": [
       "array([[-4.78534974, -0.88264914, -0.58763868, ..., -0.6183208 ,\n",
       "         0.1407267 ,  0.10345939],\n",
       "       [ 0.26332499, 10.15326954,  4.76591243, ..., -1.6224969 ,\n",
       "         0.33364384,  0.11601119],\n",
       "       [ 6.38045408,  3.29000283,  0.18726958, ..., -0.2207119 ,\n",
       "        -0.83256532,  1.22203295],\n",
       "       ...,\n",
       "       [-1.10105909,  3.17267408, -7.2317233 , ..., -0.6633557 ,\n",
       "        -0.14978319, -0.10303811],\n",
       "       [-5.51707762,  5.18107162,  6.71693804, ...,  1.11341184,\n",
       "        -2.78164404, -1.17526668],\n",
       "       [ 0.1167807 ,  9.53812151,  5.68516292, ...,  0.33768409,\n",
       "         0.22561341, -0.69518677]])"
      ]
     },
     "execution_count": 11,
     "metadata": {},
     "output_type": "execute_result"
    }
   ],
   "source": [
    "X_dimred = U[:, :100] * s[:100]\n",
    "X_dimred"
   ]
  },
  {
   "cell_type": "code",
   "execution_count": 12,
   "id": "054f9743-b09d-48f7-8053-9becf98b199d",
   "metadata": {},
   "outputs": [
    {
     "data": {
      "text/plain": [
       "array([[ 0.26332499, 10.15326954,  4.76591243, ..., -1.6224969 ,\n",
       "         0.33364384,  0.11601119],\n",
       "       [ 6.38045408,  3.29000283,  0.18726958, ..., -0.2207119 ,\n",
       "        -0.83256532,  1.22203295],\n",
       "       [-7.42917881, -0.5000858 , -9.0354874 , ..., -1.02156281,\n",
       "         1.09220326,  0.31164159],\n",
       "       ...,\n",
       "       [-2.35665792,  0.72537271, -7.64990993, ..., -1.31027716,\n",
       "        -0.35693255,  0.39313495],\n",
       "       [-1.10105909,  3.17267408, -7.2317233 , ..., -0.6633557 ,\n",
       "        -0.14978319, -0.10303811],\n",
       "       [-5.51707762,  5.18107162,  6.71693804, ...,  1.11341184,\n",
       "        -2.78164404, -1.17526668]])"
      ]
     },
     "execution_count": 12,
     "metadata": {},
     "output_type": "execute_result"
    }
   ],
   "source": [
    "# 50% of cells\n",
    "N = int(data.shape[0]/2)\n",
    "sketch_index = gs(X_dimred, N, replace=False)\n",
    "\n",
    "X_sketch = X_dimred[sketch_index]\n",
    "X_sketch"
   ]
  },
  {
   "cell_type": "code",
   "execution_count": 13,
   "id": "848becdb-4af9-430a-bae3-3b79cb871af7",
   "metadata": {},
   "outputs": [
    {
     "data": {
      "text/plain": [
       "(1981, 100)"
      ]
     },
     "execution_count": 13,
     "metadata": {},
     "output_type": "execute_result"
    }
   ],
   "source": [
    "X_sketch.shape"
   ]
  },
  {
   "cell_type": "code",
   "execution_count": 14,
   "id": "35477e26-7aa3-4575-8ed1-1e0199d623ce",
   "metadata": {},
   "outputs": [
    {
     "data": {
      "text/plain": [
       "AnnData object with n_obs × n_vars = 1981 × 100"
      ]
     },
     "execution_count": 14,
     "metadata": {},
     "output_type": "execute_result"
    }
   ],
   "source": [
    "sdata = anndata.AnnData(X_sketch)\n",
    "sdata"
   ]
  },
  {
   "cell_type": "code",
   "execution_count": 15,
   "id": "55b2d11f-c8e8-4978-b423-9a2db2d75829",
   "metadata": {},
   "outputs": [
    {
     "name": "stdout",
     "output_type": "stream",
     "text": [
      "2021-10-08 17:15:06,219 - pegasus.tools.signature_score - INFO - Loaded signatures from GMT file /Users/kancherj/opt/miniconda3/envs/sketch/lib/python3.9/site-packages/pegasus/data_files/ribosomal_genes_human.gmt.\n",
      "2021-10-08 17:15:06,220 - pegasus.tools.signature_score - INFO - Signature ribo_genes: 0 out of 78 genes are used in signature score calculation.\n",
      "2021-10-08 17:15:06,222 - pegasus.tools.signature_score - WARNING - Signature ribo_genes has less than 1 genes kept and thus its score calculation is skipped!\n",
      "2021-10-08 17:15:06,223 - pegasus.tools.signature_score - INFO - Function 'calc_signature_score' finished in 0.02s.\n"
     ]
    }
   ],
   "source": [
    "pegasus.calc_signature_score(sdata, signatures=\"ribosomal_genes_human\")"
   ]
  },
  {
   "cell_type": "code",
   "execution_count": 16,
   "id": "052b3cf2-873a-437e-960b-4796866886a2",
   "metadata": {},
   "outputs": [
    {
     "data": {
      "text/plain": [
       "(1981, 50)"
      ]
     },
     "execution_count": 16,
     "metadata": {},
     "output_type": "execute_result"
    }
   ],
   "source": [
    "sdata.obsm[\"sig_background\"].shape"
   ]
  }
 ],
 "metadata": {
  "kernelspec": {
   "display_name": "Python 3 (ipykernel)",
   "language": "python",
   "name": "python3"
  },
  "language_info": {
   "codemirror_mode": {
    "name": "ipython",
    "version": 3
   },
   "file_extension": ".py",
   "mimetype": "text/x-python",
   "name": "python",
   "nbconvert_exporter": "python",
   "pygments_lexer": "ipython3",
   "version": "3.9.7"
  }
 },
 "nbformat": 4,
 "nbformat_minor": 5
}
