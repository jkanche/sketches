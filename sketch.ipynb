{
 "cells": [
  {
   "cell_type": "code",
   "execution_count": 1,
   "id": "13ea2030-b878-42c2-a3db-4cac5cadae2a",
   "metadata": {},
   "outputs": [],
   "source": [
    "import anndata\n",
    "import h5py\n",
    "from geosketch import gs\n",
    "from fbpca import pca\n",
    "import numpy as np\n",
    "import pegasus\n",
    "import seaborn as sns"
   ]
  },
  {
   "cell_type": "code",
   "execution_count": 2,
   "id": "00783823-d54b-4f75-a1f8-9201ff35f581",
   "metadata": {},
   "outputs": [],
   "source": [
    "sns.set_theme(style=\"ticks\", palette=\"pastel\")"
   ]
  },
  {
   "cell_type": "code",
   "execution_count": 3,
   "id": "c907d323-5541-4358-bcbe-31d7730495fd",
   "metadata": {},
   "outputs": [],
   "source": [
    "# data = h5py.File(\"test.h5\")\n",
    "# X = data['samp_data']['data'][:,:]\n",
    "# X.shape"
   ]
  },
  {
   "cell_type": "code",
   "execution_count": 4,
   "id": "8f23978b-d469-474e-9e96-f067412a8ba8",
   "metadata": {},
   "outputs": [
    {
     "data": {
      "text/plain": [
       "AnnData object with n_obs × n_vars = 3962 × 18467\n",
       "    obs: 'in_tissue', 'array_row', 'array_col', 'n_genes_by_counts', 'log1p_n_genes_by_counts', 'total_counts', 'log1p_total_counts', 'pct_counts_in_top_50_genes', 'pct_counts_in_top_100_genes', 'pct_counts_in_top_200_genes', 'pct_counts_in_top_500_genes', 'total_counts_mt', 'log1p_total_counts_mt', 'pct_counts_mt', 'n_counts', 'clusters'\n",
       "    var: 'gene_ids', 'feature_types', 'genome', 'mt', 'n_cells_by_counts', 'mean_counts', 'log1p_mean_counts', 'pct_dropout_by_counts', 'total_counts', 'log1p_total_counts', 'n_cells', 'highly_variable', 'means', 'dispersions', 'dispersions_norm'\n",
       "    uns: 'clusters_colors', 'dendrogram_clusters', 'hvg', 'leiden', 'neighbors', 'pca', 'rank_genes_groups', 'umap'\n",
       "    obsm: 'X_pca', 'X_umap'\n",
       "    varm: 'PCs'\n",
       "    obsp: 'connectivities', 'distances'"
      ]
     },
     "execution_count": 4,
     "metadata": {},
     "output_type": "execute_result"
    }
   ],
   "source": [
    "# dataset from 10x genomics\n",
    "data =  anndata.read_h5ad(\"V1_Human_Lymph_Node.h5ad\")\n",
    "data"
   ]
  },
  {
   "cell_type": "markdown",
   "id": "6b504b97-a719-4d81-afea-da48bf0b99a7",
   "metadata": {},
   "source": [
    "### Pegasus signature score before sketch"
   ]
  },
  {
   "cell_type": "code",
   "execution_count": 5,
   "id": "29f3aef8-8ef6-4f0e-91ce-ec01e5ff2f90",
   "metadata": {},
   "outputs": [],
   "source": [
    "def plot_signatures(data, signature=\"ribosomal_genes_human\"):\n",
    "    pegasus.calc_signature_score(data, signatures=\"ribosomal_genes_human\")\n",
    "    data.obs[\"group\"] = 1\n",
    "    plot = sns.histplot(\n",
    "        data.obs,\n",
    "        x=\"ribo_genes\",\n",
    "        palette=\"light:m_r\",\n",
    "        edgecolor=\".3\",\n",
    "        linewidth=.5,\n",
    "        log_scale=True,\n",
    "    )\n",
    "    return(plot)"
   ]
  },
  {
   "cell_type": "code",
   "execution_count": 6,
   "id": "8f3ab8d6-5fc6-433f-9ade-298613581546",
   "metadata": {},
   "outputs": [
    {
     "name": "stdout",
     "output_type": "stream",
     "text": [
      "2021-10-11 13:59:52,859 - pegasus.tools.signature_score - INFO - Loaded signatures from GMT file /Users/kancherj/opt/miniconda3/envs/sketch/lib/python3.9/site-packages/pegasus/data_files/ribosomal_genes_human.gmt.\n",
      "2021-10-11 13:59:52,861 - pegasus.tools.signature_score - INFO - Signature ribo_genes: 77 out of 78 genes are used in signature score calculation.\n",
      "2021-10-11 13:59:52,930 - pegasus.tools.signature_score - INFO - Function 'calc_signature_score' finished in 0.14s.\n"
     ]
    },
    {
     "name": "stderr",
     "output_type": "stream",
     "text": [
      "/Users/kancherj/opt/miniconda3/envs/sketch/lib/python3.9/site-packages/pandas/core/arraylike.py:364: RuntimeWarning: invalid value encountered in log10\n",
      "  result = getattr(ufunc, method)(*inputs, **kwargs)\n"
     ]
    },
    {
     "data": {
      "text/plain": [
       "<AxesSubplot:xlabel='ribo_genes', ylabel='Count'>"
      ]
     },
     "execution_count": 6,
     "metadata": {},
     "output_type": "execute_result"
    },
    {
     "data": {
      "image/png": "[encoded data removed]",
      "text/plain": [
       "<Figure size 432x288 with 1 Axes>"
      ]
     },
     "metadata": {},
     "output_type": "display_data"
    }
   ],
   "source": [
    "plot_signatures(data)"
   ]
  },
  {
   "cell_type": "markdown",
   "id": "3ade7583-5cc1-4bfd-a96a-d14d29ceaeb6",
   "metadata": {},
   "source": [
    "following geosketch"
   ]
  },
  {
   "cell_type": "code",
   "execution_count": 7,
   "id": "cf3bd672-2612-4251-adbe-55e280b3221c",
   "metadata": {},
   "outputs": [
    {
     "data": {
      "text/plain": [
       "(3962, 100)"
      ]
     },
     "execution_count": 7,
     "metadata": {},
     "output_type": "execute_result"
    }
   ],
   "source": [
    "tX = data.X\n",
    "U, s, Vt = pca(tX, k=100)\n",
    "U.shape"
   ]
  },
  {
   "cell_type": "code",
   "execution_count": 8,
   "id": "c8e26357-5ef3-4682-b8c5-4a72811ce22b",
   "metadata": {},
   "outputs": [
    {
     "data": {
      "text/plain": [
       "(100, 18467)"
      ]
     },
     "execution_count": 8,
     "metadata": {},
     "output_type": "execute_result"
    }
   ],
   "source": [
    "Vt.shape"
   ]
  },
  {
   "cell_type": "code",
   "execution_count": 9,
   "id": "7bccc392-9f6f-4379-909a-1809ed43fe09",
   "metadata": {},
   "outputs": [
    {
     "data": {
      "text/plain": [
       "array([[-4.78629734, -0.88088621,  0.5922891 , ...,  0.11393839,\n",
       "         0.02827281,  1.00203859],\n",
       "       [ 0.26321176, 10.15465995, -4.76419923, ..., -0.4942985 ,\n",
       "         0.06001623,  0.36807566],\n",
       "       [ 6.38117176,  3.29098884, -0.18114548, ...,  0.22443486,\n",
       "         0.50507715, -0.15412526],\n",
       "       ...,\n",
       "       [-1.09989505,  3.17358867,  7.23167089, ..., -1.08637751,\n",
       "         0.57986889,  1.18216352],\n",
       "       [-5.51898654,  5.18705964, -6.71666264, ...,  0.36050117,\n",
       "        -0.89903402,  1.70909189],\n",
       "       [ 0.11630973,  9.53913956, -5.68257803, ..., -0.44832183,\n",
       "        -0.69619967,  0.54488849]])"
      ]
     },
     "execution_count": 9,
     "metadata": {},
     "output_type": "execute_result"
    }
   ],
   "source": [
    "X_dimred = U[:, :100] * s[:100]\n",
    "X_dimred"
   ]
  },
  {
   "cell_type": "code",
   "execution_count": 13,
   "id": "3f5084eb-1866-4869-8301-cdae886f3383",
   "metadata": {},
   "outputs": [],
   "source": [
    "def sketch_plots(data, perc_cells = 10):\n",
    "    N = int(data.shape[0] * perc_cells/100)\n",
    "    sketch_index = gs(X_dimred, N, replace=False)\n",
    "    sdata = data[sketch_index]\n",
    "    return(plot_signatures(sdata))"
   ]
  },
  {
   "cell_type": "code",
   "execution_count": 16,
   "id": "95da0632-7bac-4c7d-846b-8c15a507fe92",
   "metadata": {},
   "outputs": [
    {
     "name": "stdout",
     "output_type": "stream",
     "text": [
      "2021-10-11 14:10:05,419 - pegasus.tools.signature_score - INFO - Loaded signatures from GMT file /Users/kancherj/opt/miniconda3/envs/sketch/lib/python3.9/site-packages/pegasus/data_files/ribosomal_genes_human.gmt.\n",
      "2021-10-11 14:10:05,420 - pegasus.tools.signature_score - INFO - Signature ribo_genes: 77 out of 78 genes are used in signature score calculation.\n",
      "2021-10-11 14:10:05,421 - pegasus.tools.signature_score - WARNING - Signature key ribo_genes exists in data.obs, the existing content will be overwritten!\n"
     ]
    },
    {
     "name": "stderr",
     "output_type": "stream",
     "text": [
      "Trying to set attribute `.obs` of view, copying.\n"
     ]
    },
    {
     "name": "stdout",
     "output_type": "stream",
     "text": [
      "2021-10-11 14:10:05,445 - pegasus.tools.signature_score - INFO - Function 'calc_signature_score' finished in 0.03s.\n"
     ]
    },
    {
     "name": "stderr",
     "output_type": "stream",
     "text": [
      "/Users/kancherj/opt/miniconda3/envs/sketch/lib/python3.9/site-packages/pandas/core/arraylike.py:364: RuntimeWarning: invalid value encountered in log10\n",
      "  result = getattr(ufunc, method)(*inputs, **kwargs)\n"
     ]
    },
    {
     "data": {
      "text/plain": [
       "<AxesSubplot:xlabel='ribo_genes', ylabel='Count'>"
      ]
     },
     "execution_count": 16,
     "metadata": {},
     "output_type": "execute_result"
    },
    {
     "data": {
      "image/png": "[encoded data removed]",
      "text/plain": [
       "<Figure size 432x288 with 1 Axes>"
      ]
     },
     "metadata": {},
     "output_type": "display_data"
    }
   ],
   "source": [
    "sketch_plots(data, 5)"
   ]
  },
  {
   "cell_type": "code",
   "execution_count": 14,
   "id": "b33ecad3-1511-41e5-a901-feed9512e7d1",
   "metadata": {},
   "outputs": [
    {
     "name": "stdout",
     "output_type": "stream",
     "text": [
      "2021-10-11 14:09:45,110 - pegasus.tools.signature_score - INFO - Loaded signatures from GMT file /Users/kancherj/opt/miniconda3/envs/sketch/lib/python3.9/site-packages/pegasus/data_files/ribosomal_genes_human.gmt.\n",
      "2021-10-11 14:09:45,112 - pegasus.tools.signature_score - INFO - Signature ribo_genes: 77 out of 78 genes are used in signature score calculation.\n",
      "2021-10-11 14:09:45,112 - pegasus.tools.signature_score - WARNING - Signature key ribo_genes exists in data.obs, the existing content will be overwritten!\n"
     ]
    },
    {
     "name": "stderr",
     "output_type": "stream",
     "text": [
      "Trying to set attribute `.obs` of view, copying.\n"
     ]
    },
    {
     "name": "stdout",
     "output_type": "stream",
     "text": [
      "2021-10-11 14:09:45,148 - pegasus.tools.signature_score - INFO - Function 'calc_signature_score' finished in 0.04s.\n"
     ]
    },
    {
     "name": "stderr",
     "output_type": "stream",
     "text": [
      "/Users/kancherj/opt/miniconda3/envs/sketch/lib/python3.9/site-packages/pandas/core/arraylike.py:364: RuntimeWarning: invalid value encountered in log10\n",
      "  result = getattr(ufunc, method)(*inputs, **kwargs)\n"
     ]
    },
    {
     "data": {
      "text/plain": [
       "<AxesSubplot:xlabel='ribo_genes', ylabel='Count'>"
      ]
     },
     "execution_count": 14,
     "metadata": {},
     "output_type": "execute_result"
    },
    {
     "data": {
      "image/png": "[encoded data removed]",
      "text/plain": [
       "<Figure size 432x288 with 1 Axes>"
      ]
     },
     "metadata": {},
     "output_type": "display_data"
    }
   ],
   "source": [
    "sketch_plots(data, 10)"
   ]
  },
  {
   "cell_type": "code",
   "execution_count": 15,
   "id": "695063c2-8ee1-41d8-b6b1-5828c1dbc0de",
   "metadata": {},
   "outputs": [
    {
     "name": "stdout",
     "output_type": "stream",
     "text": [
      "2021-10-11 14:09:49,637 - pegasus.tools.signature_score - INFO - Loaded signatures from GMT file /Users/kancherj/opt/miniconda3/envs/sketch/lib/python3.9/site-packages/pegasus/data_files/ribosomal_genes_human.gmt.\n",
      "2021-10-11 14:09:49,638 - pegasus.tools.signature_score - INFO - Signature ribo_genes: 77 out of 78 genes are used in signature score calculation.\n",
      "2021-10-11 14:09:49,639 - pegasus.tools.signature_score - WARNING - Signature key ribo_genes exists in data.obs, the existing content will be overwritten!\n"
     ]
    },
    {
     "name": "stderr",
     "output_type": "stream",
     "text": [
      "Trying to set attribute `.obs` of view, copying.\n"
     ]
    },
    {
     "name": "stdout",
     "output_type": "stream",
     "text": [
      "2021-10-11 14:09:49,685 - pegasus.tools.signature_score - INFO - Function 'calc_signature_score' finished in 0.05s.\n"
     ]
    },
    {
     "name": "stderr",
     "output_type": "stream",
     "text": [
      "/Users/kancherj/opt/miniconda3/envs/sketch/lib/python3.9/site-packages/pandas/core/arraylike.py:364: RuntimeWarning: invalid value encountered in log10\n",
      "  result = getattr(ufunc, method)(*inputs, **kwargs)\n"
     ]
    },
    {
     "data": {
      "text/plain": [
       "<AxesSubplot:xlabel='ribo_genes', ylabel='Count'>"
      ]
     },
     "execution_count": 15,
     "metadata": {},
     "output_type": "execute_result"
    },
    {
     "data": {
      "image/png": "[encoded data removed]",
      "text/plain": [
       "<Figure size 432x288 with 1 Axes>"
      ]
     },
     "metadata": {},
     "output_type": "display_data"
    }
   ],
   "source": [
    "sketch_plots(data, 15)"
   ]
  }
 ],
 "metadata": {
  "kernelspec": {
   "display_name": "Python 3 (ipykernel)",
   "language": "python",
   "name": "python3"
  },
  "language_info": {
   "codemirror_mode": {
    "name": "ipython",
    "version": 3
   },
   "file_extension": ".py",
   "mimetype": "text/x-python",
   "name": "python",
   "nbconvert_exporter": "python",
   "pygments_lexer": "ipython3",
   "version": "3.9.7"
  }
 },
 "nbformat": 4,
 "nbformat_minor": 5
}
